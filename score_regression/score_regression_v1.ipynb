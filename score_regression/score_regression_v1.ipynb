{
 "cells": [
  {
   "cell_type": "code",
   "id": "8ba1594f",
   "metadata": {
    "ExecuteTime": {
     "end_time": "2025-06-30T16:26:43.512584Z",
     "start_time": "2025-06-30T16:26:43.314060Z"
    }
   },
   "source": [
    "import pandas as pd\n",
    "import json\n",
    "import numpy as np\n",
    "import os\n",
    "\n",
    "from scipy.stats import entropy"
   ],
   "outputs": [],
   "execution_count": 12
  },
  {
   "cell_type": "markdown",
   "id": "187401f9",
   "metadata": {},
   "source": [
    "### Xóa cột coefficient, language_id. Đổi tên cột assignment_id, problem_id, username"
   ]
  },
  {
   "metadata": {
    "ExecuteTime": {
     "end_time": "2025-06-30T13:03:49.384931Z",
     "start_time": "2025-06-30T13:03:49.374212Z"
    }
   },
   "cell_type": "code",
   "source": [
    "def parse_judgement(j):\n",
    "    try:\n",
    "        parsed = json.loads(j)\n",
    "        verdicts = parsed.get(\"verdicts\", {})\n",
    "        times = parsed.get(\"times\", [])\n",
    "        mems = parsed.get(\"mems\", [])\n",
    "\n",
    "        total_verdicts = sum(verdicts.values())\n",
    "        avg_time_case = np.mean(times) if times else 0\n",
    "        avg_mem_case = np.mean(mems) if mems else 0\n",
    "\n",
    "        # Entropy calculation (with safeguard against divide-by-zero)\n",
    "        if total_verdicts > 0:\n",
    "            probs = np.array([v / total_verdicts for v in verdicts.values()])\n",
    "            verdict_entropy = -np.sum(probs * np.log2(probs))\n",
    "        else:\n",
    "            verdict_entropy = 0\n",
    "\n",
    "        return pd.Series({\n",
    "            'num_wrong': verdicts.get('WRONG', 0),\n",
    "            'num_verdicts': total_verdicts,\n",
    "            'avg_time_case': avg_time_case,\n",
    "            'avg_mem_case': avg_mem_case,\n",
    "            'verdict_entropy': verdict_entropy\n",
    "        })\n",
    "\n",
    "    except Exception as e:\n",
    "        return pd.Series({\n",
    "            'num_wrong': 0,\n",
    "            'num_verdicts': 0,\n",
    "            'avg_time_case': 0,\n",
    "            'avg_mem_case': 0,\n",
    "            'verdict_entropy': 0\n",
    "        })"
   ],
   "id": "8e59b86c7a5008d",
   "outputs": [],
   "execution_count": 2
  },
  {
   "metadata": {
    "ExecuteTime": {
     "end_time": "2025-06-30T13:06:25.013899Z",
     "start_time": "2025-06-30T13:05:24.250889Z"
    }
   },
   "cell_type": "code",
   "source": [
    "df = pd.read_csv('./result_v1/data_cleaned.csv')\n",
    "\n",
    "df['created_at'] = pd.to_datetime(df['created_at'], format='%m-%d %H:%M:%S', errors='coerce')\n",
    "df['updated_at'] = pd.to_datetime(df['updated_at'], format='%m-%d %H:%M:%S', errors='coerce')\n",
    "\n",
    "# Fix overnight judging\n",
    "df.loc[df['updated_at'] < df['created_at'], 'updated_at'] += pd.Timedelta(days=1)\n",
    "\n",
    "# Calculate duration\n",
    "df['duration'] = (df['updated_at'] - df['created_at']).dt.total_seconds()\n",
    "\n",
    "# Extract hour of submission\n",
    "df['submit_hour'] = df['created_at'].dt.hour\n",
    "\n",
    "#Parge judgement to more readable\n",
    "df = pd.concat([df, df['judgement'].apply(parse_judgement)], axis=1)\n",
    "\n",
    "#Extract and calculate features\n",
    "df_summary = df.groupby('username').agg(\n",
    "    total_submissions=('username', 'count'),\n",
    "    total_problems=('problem_id', 'nunique'),\n",
    "    total_assignments=('assignment_id', 'nunique'),\n",
    "\n",
    "    final_ratio=('is_final', 'mean'),\n",
    "    avg_duration=('duration', 'mean'),\n",
    "    max_duration=('duration', 'max'),\n",
    "\n",
    "    avg_submit_hour=('submit_hour', 'mean'),\n",
    "    early_bird_ratio=('submit_hour', lambda x: (x < 12).sum() / len(x)),\n",
    "    night_owl_ratio=('submit_hour', lambda x: (x >= 20).sum() / len(x)),\n",
    "\n",
    "    avg_score=('pre_score', 'mean'),\n",
    "    std_score=('pre_score', 'std'),\n",
    "    best_score=('pre_score', 'max'),\n",
    "    score_status_ratio=('status', lambda x: (x == 'SCORE').sum() / len(x)),\n",
    "\n",
    "    problem_revisit_ratio=('problem_id', lambda x: len(x) / x.nunique() if x.nunique() else 0),\n",
    "    avg_wrong=('num_wrong', 'mean'),\n",
    "    avg_verdicts=('num_verdicts', 'mean'),\n",
    "    avg_time_per_case=('avg_time_case', 'mean'),\n",
    "    avg_mem_per_case=('avg_mem_case', 'mean'),\n",
    "    avg_verdict_entropy=('verdict_entropy', 'mean'),\n",
    "    avg_attempts_per_problem=('problem_id', lambda x: len(x) / x.nunique() if x.nunique() else 0),\n",
    ").reset_index()\n",
    "\n",
    "#Score progression trend\n",
    "df_sorted = df.sort_values(['username', 'problem_id', 'created_at'])\n",
    "df_sorted['score_diff'] = df_sorted.groupby(['username', 'problem_id'])['pre_score'].diff()\n",
    "score_trend = df_sorted.groupby(['username', 'problem_id'])['score_diff'].mean().groupby('username').mean()\n",
    "score_trend.name = 'avg_score_progression'\n",
    "\n",
    "#Avg time spent per problem\n",
    "df_times = df.sort_values(['username', 'problem_id', 'created_at'])\n",
    "problem_time = df_times.groupby(['username', 'problem_id'])['created_at'].agg(['min', 'max'])\n",
    "problem_time['duration'] = (pd.to_datetime(problem_time['max']) - pd.to_datetime(problem_time['min'])).dt.total_seconds()\n",
    "user_avg_duration = problem_time.groupby('username')['duration'].mean()\n",
    "user_avg_duration.name = 'avg_problem_duration'\n",
    "\n",
    "#Verdict diversity (how many unique verdicts per user)\n",
    "def count_verdict_types(judgement_list):\n",
    "    verdicts = []\n",
    "    for js in judgement_list:\n",
    "        try:\n",
    "            verdicts.append(list(eval(js)['verdicts'].keys()))\n",
    "        except:\n",
    "            continue\n",
    "    return len(set([v for vs in verdicts for v in vs]))\n",
    "\n",
    "verdict_diversity = df.groupby('username')['judgement'].apply(count_verdict_types)\n",
    "verdict_diversity.name = 'verdict_diversity'\n",
    "\n",
    "#Avg score improvement to final\n",
    "final_scores = df[df['is_final'] == 1].groupby(['username', 'problem_id'])['pre_score'].first()\n",
    "first_scores = df.groupby(['username', 'problem_id'])['pre_score'].first()\n",
    "score_improvement = (final_scores - first_scores).groupby('username').mean()\n",
    "score_improvement.name = 'avg_score_improvement_to_final'\n",
    "\n",
    "#Score volatility per problem\n",
    "score_volatility = df.groupby(['username', 'problem_id'])['pre_score'].std().groupby('username').mean()\n",
    "score_volatility.name = 'avg_score_volatility_per_problem'\n",
    "\n",
    "#Time gap before final submission\n",
    "df_sorted = df.sort_values(['username', 'problem_id', 'created_at'])\n",
    "finals = df_sorted[df_sorted['is_final'] == 1].copy()\n",
    "finals['prev_time'] = df_sorted.groupby(['username', 'problem_id'])['created_at'].shift(1)\n",
    "finals['gap_to_final_sec'] = (\n",
    "    pd.to_datetime(finals['created_at']) - pd.to_datetime(finals['prev_time'])\n",
    ").dt.total_seconds()\n",
    "final_submit_gap_avg = finals.groupby('username')['gap_to_final_sec'].mean()\n",
    "final_submit_gap_avg.name = 'avg_gap_before_final_submission'\n",
    "\n",
    "#Suspiciously perfect problems ratio\n",
    "problem_stats = df.groupby(['username', 'problem_id']).agg(\n",
    "    attempts=('pre_score', 'count'),\n",
    "    final_score=('pre_score', lambda x: x.iloc[-1])\n",
    ")\n",
    "suspicious = (problem_stats['attempts'] == 1) & (problem_stats['final_score'] == 10000)\n",
    "suspicious_ratio = suspicious.groupby('username').mean()\n",
    "suspicious_ratio.name = 'suspiciously_perfect_problems_ratio'\n",
    "\n",
    "#Submit time entropy\n",
    "def submit_entropy(x):\n",
    "    hour_counts = x.value_counts(normalize=True)\n",
    "    return entropy(hour_counts)\n",
    "\n",
    "submit_time_entropy = df.groupby('username')['submit_hour'].apply(submit_entropy)\n",
    "submit_time_entropy.name = 'submit_time_entropy'\n",
    "\n",
    "df['submit_date'] = df['created_at'].dt.floor('d')\n",
    "active_days = df.groupby('username')['submit_date'].nunique()\n",
    "active_days.name = 'active_days'\n",
    "\n",
    "activity_span = df.groupby('username')['submit_date'].agg(['min', 'max'])\n",
    "activity_span['activity_days_span'] = (activity_span['max'] - activity_span['min']).dt.days + 1\n",
    "activity_span = activity_span['activity_days_span']\n",
    "\n",
    "df_sorted_user = df.sort_values(['username', 'created_at'])\n",
    "global_score_diff = df_sorted_user.groupby('username')['pre_score'].apply(lambda x: x.diff().mean())\n",
    "global_score_diff.name = 'avg_global_score_improvement'\n",
    "\n",
    "final_quality = df[df['is_final'] == 1].groupby('username')['pre_score'].mean() / 10000\n",
    "final_quality.name = 'final_score_ratio'\n",
    "\n",
    "submission_attempts = df.groupby(['username', 'problem_id']).size()\n",
    "final_submissions = df[df['is_final'] == 1].groupby(['username', 'problem_id']).size()\n",
    "struggle_ratio = (submission_attempts - final_submissions).groupby('username').mean()\n",
    "struggle_ratio.name = 'avg_attempts_before_final'\n",
    "\n",
    "late_ratio = (df['submit_hour'] >= 22).groupby(df['username']).mean()\n",
    "late_ratio.name = 'late_night_submit_ratio'\n",
    "\n",
    "assign_done = df[df['is_final'] == 1].groupby(['username', 'assignment_id']).size().groupby('username').count()\n",
    "assign_total = df.groupby(['username', 'assignment_id']).size().groupby('username').count()\n",
    "assignment_completion = assign_done / assign_total\n",
    "assignment_completion.name = 'assignment_completion_ratio'\n",
    "\n",
    "first_scores = df.groupby(['username', 'problem_id'])['pre_score'].first()\n",
    "final_scores = df[df['is_final'] == 1].groupby(['username', 'problem_id'])['pre_score'].last()\n",
    "score_gain = (final_scores - first_scores).groupby('username').mean()\n",
    "score_gain.name = 'avg_score_improvement'\n",
    "\n",
    "df_sorted = df.sort_values(['username', 'created_at'])\n",
    "global_score_diff = df_sorted.groupby('username')['pre_score'].apply(lambda x: x.diff().mean())\n",
    "global_score_diff.name = 'avg_score_trend'\n",
    "\n",
    "efficiency = (1 / submission_attempts).groupby('username').mean()\n",
    "efficiency.name = 'avg_efficiency_per_problem'\n",
    "\n",
    "\n",
    "df['weekday'] = df['created_at'].dt.weekday\n",
    "weekend_ratio = (df['weekday'] >= 5).groupby(df['username']).mean()\n",
    "weekend_ratio.name = 'weekend_submit_ratio'\n",
    "\n",
    "def max_streak(submit_dates):\n",
    "    dates = sorted(set(submit_dates))\n",
    "    streak, max_streak = 1, 1\n",
    "    for i in range(1, len(dates)):\n",
    "        if (dates[i] - dates[i-1]).days == 1:\n",
    "            streak += 1\n",
    "            max_streak = max(max_streak, streak)\n",
    "        else:\n",
    "            streak = 1\n",
    "    return max_streak\n",
    "\n",
    "streak_days = df.groupby('username')['submit_date'].apply(lambda x: max_streak(list(x)))\n",
    "streak_days.name = 'max_streak_days'\n",
    "\n",
    "def error_recovery_ratio(user_df):\n",
    "    user_df = user_df.sort_values('created_at')\n",
    "    count = 0\n",
    "    total = 0\n",
    "    for i in range(1, len(user_df)):\n",
    "        if user_df.iloc[i - 1]['status'] == 'Compilation Error':\n",
    "            total += 1\n",
    "            if user_df.iloc[i]['pre_score'] == 10000:\n",
    "                count += 1\n",
    "    return pd.Series({'compilation_recovery_ratio': count / total if total > 0 else 0})\n",
    "recovery_ratio = (\n",
    "    df.drop(columns='username')\n",
    "      .groupby(df['username'], group_keys=False)\n",
    "      .apply(error_recovery_ratio)\n",
    "      .reset_index()\n",
    ")\n",
    "\n",
    "# Problem switching frequency\n",
    "df_sorted = df.sort_values(['username', 'created_at'])\n",
    "problem_changes = (df_sorted.groupby('username')['problem_id']\n",
    "                  .apply(lambda x: (x != x.shift()).sum())\n",
    "                  .reset_index(name='problem_switches'))\n",
    "\n",
    "# Focus intensity (submissions/problem/day)\n",
    "focus_intensity = (\n",
    "    df.groupby(['username', 'submit_date', 'problem_id']).size()\n",
    "    .groupby('username').mean()\n",
    "    .reset_index(name='avg_submissions_per_problem_per_day')\n",
    ")\n",
    "\n",
    "#Merge all into df_summary\n",
    "df_summary = (\n",
    "    df_summary\n",
    "    .merge(score_improvement, on='username', how='left')\n",
    "    .merge(score_volatility, on='username', how='left')\n",
    "    .merge(final_submit_gap_avg, on='username', how='left')\n",
    "    .merge(suspicious_ratio, on='username', how='left')\n",
    "    .merge(submit_time_entropy, on='username', how='left')\n",
    "    .merge(score_trend, on='username', how='left')\n",
    "    .merge(user_avg_duration, on='username', how='left')\n",
    "    .merge(verdict_diversity, on='username', how='left')\n",
    "\n",
    "    #13 score mark\n",
    "    .merge(active_days, on='username', how='left')\n",
    "    .merge(activity_span, on='username', how='left')\n",
    "    .merge(global_score_diff, on='username', how='left')\n",
    "    .merge(final_quality, on='username', how='left')\n",
    "    .merge(struggle_ratio, on='username', how='left')\n",
    "    .merge(late_ratio, on='username', how='left')\n",
    "    .merge(assignment_completion, on='username', how='left')\n",
    "    .merge(efficiency, on='username', how='left')\n",
    "    .merge(weekend_ratio, on='username', how='left')\n",
    "    .merge(streak_days, on='username', how='left')\n",
    "    .merge(recovery_ratio, on='username', how='left')\n",
    "\n",
    "    .merge(problem_changes, on='username', how='left')\n",
    "    .merge(focus_intensity, on='username', how='left')\n",
    ")\n",
    "\n",
    "df_summary.to_csv('./result_v1/user_with_features.csv', index=False)"
   ],
   "id": "eb41c0ae",
   "outputs": [],
   "execution_count": 6
  },
  {
   "metadata": {
    "ExecuteTime": {
     "end_time": "2025-06-30T13:06:25.161935Z",
     "start_time": "2025-06-30T13:06:25.070711Z"
    }
   },
   "cell_type": "code",
   "source": [
    "from sklearn.preprocessing import MinMaxScaler\n",
    "import pandas as pd\n",
    "\n",
    "# Load the already extracted features\n",
    "agg = pd.read_csv('./result_v1/user_with_features.csv')\n",
    "\n",
    "# Separate identifier column\n",
    "user_ids = agg['username']\n",
    "features = agg.drop(columns=['username'])\n",
    "\n",
    "# Initialize scaler (scales values to 0–1)\n",
    "scaler = MinMaxScaler()\n",
    "normalized_features = scaler.fit_transform(features)\n",
    "\n",
    "# Recreate DataFrame with original column names\n",
    "normalized_df = pd.DataFrame(normalized_features, columns=features.columns)\n",
    "normalized_df.insert(0, 'username', user_ids)\n",
    "\n",
    "# Save normalized features\n",
    "normalized_df.to_csv('./result_v1/user_with_features_normalized.csv', index=False)"
   ],
   "id": "5d5bef6b121933ce",
   "outputs": [],
   "execution_count": 7
  },
  {
   "metadata": {
    "ExecuteTime": {
     "end_time": "2025-06-30T13:06:25.207627Z",
     "start_time": "2025-06-30T13:06:25.202125Z"
    }
   },
   "cell_type": "code",
   "source": [
    "FEATURE_CSV = r'.\\result_v1\\user_with_features_normalized.csv'\n",
    "RESULT_FOLDER = r'.\\result_v1'\n",
    "QT_FOLDER = r'.\\result_v1\\qt'"
   ],
   "id": "ad0ec60b3826b8cc",
   "outputs": [],
   "execution_count": 8
  },
  {
   "cell_type": "markdown",
   "id": "4825f61d",
   "metadata": {},
   "source": [
    "### Lọc file điểm qt"
   ]
  },
  {
   "cell_type": "code",
   "id": "7cef50eb",
   "metadata": {
    "ExecuteTime": {
     "end_time": "2025-06-30T13:06:25.352794Z",
     "start_time": "2025-06-30T13:06:25.259704Z"
    }
   },
   "source": [
    "df_scores = pd.read_csv(r'.\\data\\qt-public.csv')\n",
    "df = df_scores.dropna(subset=['diemqt'])\n",
    "df.to_csv(r'.\\result_v1\\qt\\qt_public_cleaned.csv', index=False)\n",
    "\n",
    "df_features = pd.read_csv(FEATURE_CSV)\n",
    "df_scores = pd.read_csv(os.path.join(QT_FOLDER, 'qt_public_cleaned.csv'))\n",
    "df_scores.rename(columns={'hash': 'username'}, inplace=True)\n",
    "\n",
    "# 1. user_without_features: users có trong features nhưng không có trong scores\n",
    "users_features = set(df_features['username'])\n",
    "users_scores = set(df_scores['username'])\n",
    "\n",
    "users_without_scores = users_features - users_scores  # tập user có trong features nhưng không trong scores\n",
    "\n",
    "df_user_without_features = df_features[df_features['username'].isin(users_without_scores)]\n",
    "\n",
    "# 2. user_with_features: users có trong cả 2 file, lưu toàn bộ cột (merge trên username)\n",
    "df_user_with_features = pd.merge(df_scores, df_features, on='username', how='inner')\n",
    "\n",
    "df_user_without_features[['username']].to_csv(os.path.join(QT_FOLDER, \"user_qt_without_features.csv\"), index=False)\n",
    "df_user_with_features.to_csv(os.path.join(QT_FOLDER, \"user_qt_with_features.csv\"), index=False)\n",
    "df_user_with_features.isnull().sum()\n",
    "df_user_without_features.isnull().sum()"
   ],
   "outputs": [
    {
     "data": {
      "text/plain": [
       "username                                0\n",
       "total_submissions                       0\n",
       "total_problems                          0\n",
       "total_assignments                       0\n",
       "final_ratio                             0\n",
       "avg_duration                            0\n",
       "max_duration                            0\n",
       "avg_submit_hour                         0\n",
       "early_bird_ratio                        0\n",
       "night_owl_ratio                         0\n",
       "avg_score                               0\n",
       "std_score                               6\n",
       "best_score                              0\n",
       "score_status_ratio                      0\n",
       "problem_revisit_ratio                   0\n",
       "avg_wrong                               0\n",
       "avg_verdicts                            0\n",
       "avg_time_per_case                       0\n",
       "avg_mem_per_case                        0\n",
       "avg_verdict_entropy                     0\n",
       "avg_attempts_per_problem                0\n",
       "avg_score_improvement_to_final          1\n",
       "avg_score_volatility_per_problem        7\n",
       "avg_gap_before_final_submission        22\n",
       "suspiciously_perfect_problems_ratio     0\n",
       "submit_time_entropy                     0\n",
       "avg_score_progression                   7\n",
       "avg_problem_duration                    0\n",
       "verdict_diversity                       0\n",
       "active_days                             0\n",
       "activity_days_span                      0\n",
       "avg_score_trend                         6\n",
       "final_score_ratio                       1\n",
       "avg_attempts_before_final               1\n",
       "late_night_submit_ratio                 0\n",
       "assignment_completion_ratio             1\n",
       "avg_efficiency_per_problem              0\n",
       "weekend_submit_ratio                    0\n",
       "max_streak_days                         0\n",
       "compilation_recovery_ratio              0\n",
       "problem_switches                        0\n",
       "avg_submissions_per_problem_per_day     0\n",
       "dtype: int64"
      ]
     },
     "execution_count": 9,
     "metadata": {},
     "output_type": "execute_result"
    }
   ],
   "execution_count": 9
  },
  {
   "metadata": {
    "ExecuteTime": {
     "end_time": "2025-06-30T13:08:58.084394Z",
     "start_time": "2025-06-30T13:08:40.314339Z"
    }
   },
   "cell_type": "code",
   "source": [
    "import os\n",
    "import json\n",
    "import pandas as pd\n",
    "from sklearn.model_selection import train_test_split\n",
    "from sklearn.metrics import r2_score\n",
    "from sklearn.linear_model import LinearRegression, Ridge, Lasso\n",
    "from sklearn.ensemble import RandomForestRegressor, GradientBoostingRegressor\n",
    "from sklearn.svm import SVR\n",
    "from sklearn.tree import DecisionTreeRegressor\n",
    "import numpy as np\n",
    "\n",
    "df = pd.read_csv(os.path.join(QT_FOLDER, \"user_qt_with_features.csv\"))\n",
    "target_col = 'diemqt'\n",
    "X = df.drop(columns=['username', target_col])\n",
    "y = df[target_col]\n",
    "\n",
    "X = X.dropna()\n",
    "y = y[X.index]\n",
    "\n",
    "with open('feature_columns.json', 'w') as f:\n",
    "    json.dump(X.columns.tolist(), f)\n",
    "\n",
    "models = {\n",
    "    \"Linear Regression\": LinearRegression(),\n",
    "    \"Ridge Regression\": Ridge(),\n",
    "    \"Lasso Regression\": Lasso(),\n",
    "    \"Decision Tree\": DecisionTreeRegressor(),\n",
    "    \"Random Forest\": RandomForestRegressor(),\n",
    "    \"Gradient Boosting\": GradientBoostingRegressor(),\n",
    "    \"Support Vector Regression\": SVR()\n",
    "}\n",
    "\n",
    "n_runs = 10\n",
    "model_scores = {name: [] for name in models.keys()}\n",
    "\n",
    "for run in range(n_runs):\n",
    "    X_train, X_test, y_train, y_test = train_test_split(\n",
    "        X, y, test_size=0.3, random_state=run)\n",
    "\n",
    "    for name, model in models.items():\n",
    "        model.fit(X_train, y_train)\n",
    "        y_pred = model.predict(X_test)\n",
    "        r2 = r2_score(y_test, y_pred)\n",
    "        model_scores[name].append(r2)\n",
    "\n",
    "print(\"\\nKết quả trung bình R^2 sau\", n_runs, \"lần chạy:\\n\")\n",
    "best_model = None\n",
    "best_avg_score = float('-inf')\n",
    "\n",
    "for name, scores in model_scores.items():\n",
    "    avg_r2 = np.mean(scores)\n",
    "    std_r2 = np.std(scores)\n",
    "    print(f\"{name}: R^2 trung bình = {avg_r2:.4f} (± {std_r2:.4f})\")\n",
    "    if avg_r2 > best_avg_score:\n",
    "        best_avg_score = avg_r2\n",
    "        best_model = name\n",
    "\n",
    "print(f\"\\nMô hình tốt nhất: {best_model} với R^2 trung bình = {best_avg_score:.4f}\")"
   ],
   "id": "b6dde37037eb2d61",
   "outputs": [
    {
     "name": "stdout",
     "output_type": "stream",
     "text": [
      "\n",
      "Kết quả trung bình R^2 sau 10 lần chạy:\n",
      "\n",
      "Linear Regression: R^2 trung bình = -0.0252 (± 0.0948)\n",
      "Ridge Regression: R^2 trung bình = 0.0301 (± 0.0613)\n",
      "Lasso Regression: R^2 trung bình = -0.0092 (± 0.0098)\n",
      "Decision Tree: R^2 trung bình = -0.7354 (± 0.2685)\n",
      "Random Forest: R^2 trung bình = 0.0862 (± 0.0322)\n",
      "Gradient Boosting: R^2 trung bình = 0.0499 (± 0.0484)\n",
      "Support Vector Regression: R^2 trung bình = -0.0364 (± 0.0382)\n",
      "\n",
      "Mô hình tốt nhất: Random Forest với R^2 trung bình = 0.0862\n"
     ]
    }
   ],
   "execution_count": 11
  },
  {
   "cell_type": "code",
   "id": "2cb87e1a",
   "metadata": {
    "ExecuteTime": {
     "end_time": "2025-06-28T02:33:08.228835Z",
     "start_time": "2025-06-28T02:33:08.220597Z"
    }
   },
   "source": [
    "from sklearn.model_selection import train_test_split\n",
    "from sklearn.linear_model import LinearRegression\n",
    "from sklearn.metrics import mean_squared_error, r2_score\n",
    "from sklearn.ensemble import RandomForestRegressor"
   ],
   "outputs": [],
   "execution_count": 17
  },
  {
   "cell_type": "code",
   "id": "e528b61d",
   "metadata": {
    "ExecuteTime": {
     "end_time": "2025-06-30T16:26:58.211489Z",
     "start_time": "2025-06-30T16:26:56.822544Z"
    }
   },
   "source": [
    "# Đọc file\n",
    "df = pd.read_csv(os.path.join(QT_FOLDER, \"user_qt_with_features.csv\"))\n",
    "target_col = 'diemqt'\n",
    "\n",
    "# Lọc features: bỏ cột username và cột target\n",
    "X = df.drop(columns=['username', 'diemqt'])\n",
    "y = df[target_col]\n",
    "\n",
    "X = X.dropna()\n",
    "y = y[X.index]\n",
    "\n",
    "X_train, X_test, y_train, y_test = train_test_split(X, y, test_size=0.3, random_state=0)\n",
    "\n",
    "# Save features to file\n",
    "feature_cols = X_train.columns.tolist()\n",
    "with open('feature_columns.json', 'w') as f:\n",
    "    json.dump(feature_cols, f)\n",
    "\n",
    "# Khởi tạo và train model\n",
    "model = RandomForestRegressor()\n",
    "model.fit(X_train, y_train)\n",
    "\n",
    "\n",
    "# Dự đoán trên tập test\n",
    "y_pred = model.predict(X_test)\n",
    "\n",
    "r2 = r2_score(y_test, y_pred)\n",
    "\n",
    "print(f'R^2 Score: {r2:.4f}')\n"
   ],
   "outputs": [
    {
     "name": "stdout",
     "output_type": "stream",
     "text": [
      "R^2 Score: 0.0945\n"
     ]
    }
   ],
   "execution_count": 13
  },
  {
   "cell_type": "code",
   "id": "db6a833a",
   "metadata": {
    "ExecuteTime": {
     "end_time": "2025-06-28T02:35:35.980855Z",
     "start_time": "2025-06-28T02:35:35.934742Z"
    }
   },
   "source": [
    "# 1. Đọc dữ liệu\n",
    "df_features = pd.read_csv(FEATURE_CSV)\n",
    "df_without_features = pd.read_csv(r'.\\result_v1\\qt\\user_qt_without_features.csv')\n",
    "\n",
    "df_to_predict = df_features[df_features['username'].isin(df_without_features['username'])].copy()\n",
    "df_to_predict['std_score'] = df_to_predict['std_score'].fillna(0)\n",
    "\n",
    "# Xác định các cột đặc trưng\n",
    "with open('feature_columns.json') as f:\n",
    "    feature_cols = json.load(f)\n",
    "\n",
    "# Dự đoán\n",
    "df_to_predict['predicted_score'] = model.predict(df_to_predict[feature_cols])\n",
    "\n",
    "df_to_predict[['username', 'predicted_score']].to_csv(os.path.join(QT_FOLDER, \"qt_submit_v2.csv\"), index=False)"
   ],
   "outputs": [],
   "execution_count": 24
  },
  {
   "metadata": {
    "ExecuteTime": {
     "end_time": "2025-06-27T08:06:19.355622Z",
     "start_time": "2025-06-27T08:06:19.347282Z"
    }
   },
   "cell_type": "code",
   "source": "print(df_to_predict[feature_cols].isna().sum())",
   "id": "1a4e6f395e1dbae4",
   "outputs": [
    {
     "name": "stdout",
     "output_type": "stream",
     "text": [
      "total_submissions        0\n",
      "total_problems           0\n",
      "total_assignments        0\n",
      "final_ratio              0\n",
      "avg_duration             0\n",
      "max_duration             0\n",
      "avg_submit_hour          0\n",
      "early_bird_ratio         0\n",
      "night_owl_ratio          0\n",
      "avg_score                0\n",
      "std_score                6\n",
      "best_score               0\n",
      "score_status_ratio       0\n",
      "problem_revisit_ratio    0\n",
      "avg_wrong                0\n",
      "avg_verdicts             0\n",
      "avg_time_per_case        0\n",
      "avg_mem_per_case         0\n",
      "avg_verdict_entropy      0\n",
      "dtype: int64\n"
     ]
    }
   ],
   "execution_count": 38
  },
  {
   "cell_type": "markdown",
   "id": "edf7269e",
   "metadata": {},
   "source": [
    "### Điểm thực hành"
   ]
  },
  {
   "cell_type": "code",
   "id": "8276c314",
   "metadata": {
    "ExecuteTime": {
     "end_time": "2025-06-28T03:23:14.616408Z",
     "start_time": "2025-06-28T03:23:14.535972Z"
    }
   },
   "source": [
    "df_scores = pd.read_csv(r'.\\data\\th-public.csv')\n",
    "df = df_scores.dropna(subset=['TH'])\n",
    "df.to_csv(r'.\\result_v1\\th\\th-public-cleaned.csv', index=False)\n",
    "\n",
    "df_features = pd.read_csv(FEATURE_CSV)\n",
    "df_scores = pd.read_csv(r'.\\result_v1\\th\\th-public-cleaned.csv')\n",
    "df_scores.rename(columns={'hash': 'username'}, inplace=True)\n",
    "\n",
    "# 1. user_without_features: users có trong features nhưng không có trong scores\n",
    "users_features = set(df_features['username'])\n",
    "users_scores = set(df_scores['username'])\n",
    "\n",
    "users_without_scores = users_features - users_scores  # tập user có trong features nhưng không trong scores\n",
    "\n",
    "df_user_without_features = df_features[df_features['username'].isin(users_without_scores)]\n",
    "\n",
    "# 2. user_with_features: users có trong cả 2 file, lưu toàn bộ cột (merge trên username)\n",
    "df_user_with_features = pd.merge(df_scores, df_features, on='username', how='inner')\n",
    "\n",
    "# Lưu ra file\n",
    "df_user_without_features[['username']].to_csv(r'.\\result_v1\\th\\user_th_without_features.csv', index=False)\n",
    "df_user_with_features.to_csv(r'.\\result_v1\\th\\user_th_with_features.csv', index=False)\n",
    "df_user_with_features.isnull().sum()  # Kiểm tra có cột nào bị thiếu không\n",
    "df_user_without_features.isnull().sum()"
   ],
   "outputs": [
    {
     "data": {
      "text/plain": [
       "username                                0\n",
       "total_submissions                       0\n",
       "total_problems                          0\n",
       "total_assignments                       0\n",
       "final_ratio                             0\n",
       "avg_duration                            0\n",
       "max_duration                            0\n",
       "avg_submit_hour                         0\n",
       "early_bird_ratio                        0\n",
       "night_owl_ratio                         0\n",
       "avg_score                               0\n",
       "std_score                               6\n",
       "best_score                              0\n",
       "score_status_ratio                      0\n",
       "problem_revisit_ratio                   0\n",
       "avg_wrong                               0\n",
       "avg_verdicts                            0\n",
       "avg_time_per_case                       0\n",
       "avg_mem_per_case                        0\n",
       "avg_verdict_entropy                     0\n",
       "avg_attempts_per_problem                0\n",
       "avg_score_improvement_to_final          1\n",
       "avg_score_volatility_per_problem        7\n",
       "avg_gap_before_final_submission        22\n",
       "suspiciously_perfect_problems_ratio     0\n",
       "submit_time_entropy                     0\n",
       "avg_score_progression                   7\n",
       "avg_problem_duration                    0\n",
       "verdict_diversity                       0\n",
       "active_days                             0\n",
       "activity_days_span                      0\n",
       "avg_score_trend                         6\n",
       "final_score_ratio                       1\n",
       "avg_attempts_before_final               1\n",
       "late_night_submit_ratio                 0\n",
       "assignment_completion_ratio             1\n",
       "avg_efficiency_per_problem              0\n",
       "weekend_submit_ratio                    0\n",
       "max_streak_days                         0\n",
       "compilation_recovery_ratio              0\n",
       "problem_switches                        0\n",
       "avg_submissions_per_problem_per_day     0\n",
       "dtype: int64"
      ]
     },
     "execution_count": 26,
     "metadata": {},
     "output_type": "execute_result"
    }
   ],
   "execution_count": 26
  },
  {
   "cell_type": "code",
   "id": "f1098b8d",
   "metadata": {
    "ExecuteTime": {
     "end_time": "2025-06-30T16:27:45.681513Z",
     "start_time": "2025-06-30T16:27:44.540266Z"
    }
   },
   "source": [
    "import pandas as pd\n",
    "from sklearn.model_selection import train_test_split\n",
    "from sklearn.ensemble import RandomForestRegressor\n",
    "from sklearn.metrics import r2_score\n",
    "\n",
    "# Đọc file\n",
    "df = pd.read_csv(r'.\\result_v1\\th\\user_th_with_features.csv')\n",
    "\n",
    "target_col = 'TH'\n",
    "\n",
    "# Drop username & target from features\n",
    "X = df.drop(columns=['username', target_col])\n",
    "y = pd.to_numeric(df[target_col], errors='coerce')\n",
    "\n",
    "# Drop rows with any NaNs in either X or y\n",
    "combined = pd.concat([X, y], axis=1).dropna()\n",
    "\n",
    "X_clean = combined.drop(columns=[target_col])\n",
    "y_clean = combined[target_col]\n",
    "\n",
    "# Train/test split\n",
    "X_train, X_test, y_train, y_test = train_test_split(X_clean, y_clean, test_size=0.3, random_state=0)\n",
    "\n",
    "feature_cols = X_train.columns.tolist()\n",
    "with open('feature_columns.json', 'w') as f:\n",
    "    json.dump(feature_cols, f)\n",
    "\n",
    "# Train model\n",
    "model = RandomForestRegressor()\n",
    "model.fit(X_train, y_train)\n",
    "\n",
    "# Predict\n",
    "y_pred = model.predict(X_test)\n",
    "\n",
    "# Score\n",
    "r2 = r2_score(y_test, y_pred)\n",
    "print(f'R^2 Score: {r2:.4f}')\n"
   ],
   "outputs": [
    {
     "name": "stdout",
     "output_type": "stream",
     "text": [
      "R^2 Score: 0.4111\n"
     ]
    }
   ],
   "execution_count": 15
  },
  {
   "cell_type": "code",
   "id": "740cf88a",
   "metadata": {
    "ExecuteTime": {
     "end_time": "2025-06-27T16:02:02.916936Z",
     "start_time": "2025-06-27T16:02:02.875827Z"
    }
   },
   "source": [
    "# 1. Đọc dữ liệu\n",
    "df_features = pd.read_csv(FEATURE_CSV)\n",
    "df_without_features = pd.read_csv(r'.\\result_v1\\th\\user_th_without_features.csv')\n",
    "\n",
    "df_to_predict = df_features[df_features['username'].isin(df_without_features['username'])].copy()\n",
    "\n",
    "# Xác định các cột đặc trưng\n",
    "with open('feature_columns.json') as f:\n",
    "    feature_cols = json.load(f)\n",
    "\n",
    "df_to_predict['predicted_score'] = model.predict(df_to_predict[feature_cols])\n",
    "df_to_predict[['username', 'predicted_score']].to_csv(r'.\\result_v1\\th\\th_submit_1.csv', index=False)"
   ],
   "outputs": [],
   "execution_count": 200
  },
  {
   "cell_type": "markdown",
   "id": "9b087070",
   "metadata": {},
   "source": [
    "### Điểm cuối kì"
   ]
  },
  {
   "cell_type": "code",
   "id": "11f506c5",
   "metadata": {
    "ExecuteTime": {
     "end_time": "2025-06-27T16:05:36.160336Z",
     "start_time": "2025-06-27T16:05:36.068371Z"
    }
   },
   "source": [
    "df_scores = pd.read_csv(r'.\\data\\ck-public.csv')\n",
    "df = df_scores.dropna(subset=['CK'])\n",
    "df.to_csv(r'.\\result_v1\\ck\\ck-public-cleaned.csv', index=False)\n",
    "\n",
    "df_features = pd.read_csv(FEATURE_CSV)\n",
    "df_scores = pd.read_csv(r'.\\result_v1\\ck\\ck-public-cleaned.csv')\n",
    "df_scores.rename(columns={'hash': 'username'}, inplace=True)\n",
    "\n",
    "# 1. user_without_features: users có trong features nhưng không có trong scores\n",
    "users_features = set(df_features['username'])\n",
    "users_scores = set(df_scores['username'])\n",
    "\n",
    "users_without_scores = users_features - users_scores  # tập user có trong features nhưng không trong scores\n",
    "\n",
    "df_user_without_features = df_features[df_features['username'].isin(users_without_scores)]\n",
    "\n",
    "# 2. user_with_features: users có trong cả 2 file, lưu toàn bộ cột (merge trên username)\n",
    "df_user_with_features = pd.merge(df_scores, df_features, on='username', how='inner')\n",
    "\n",
    "# Lưu ra file\n",
    "df_user_without_features[['username']].to_csv(r'.\\result_v1\\ck\\user_ck_without_features.csv', index=False)\n",
    "df_user_with_features.to_csv(r'.\\result_v1\\ck\\user_ck_with_features.csv', index=False)\n",
    "df_user_with_features.isnull().sum()\n",
    "df_user_without_features.isnull().sum()"
   ],
   "outputs": [
    {
     "data": {
      "text/plain": [
       "username                                0\n",
       "total_submissions                       0\n",
       "total_problems                          0\n",
       "total_assignments                       0\n",
       "final_ratio                             0\n",
       "avg_duration                            0\n",
       "max_duration                            0\n",
       "avg_submit_hour                         0\n",
       "early_bird_ratio                        0\n",
       "night_owl_ratio                         0\n",
       "avg_score                               0\n",
       "std_score                               6\n",
       "best_score                              0\n",
       "score_status_ratio                      0\n",
       "problem_revisit_ratio                   0\n",
       "avg_wrong                               0\n",
       "avg_verdicts                            0\n",
       "avg_time_per_case                       0\n",
       "avg_mem_per_case                        0\n",
       "avg_verdict_entropy                     0\n",
       "avg_attempts_per_problem                0\n",
       "avg_score_improvement_to_final          1\n",
       "avg_score_volatility_per_problem        7\n",
       "avg_gap_before_final_submission        22\n",
       "suspiciously_perfect_problems_ratio     0\n",
       "submit_time_entropy                     0\n",
       "avg_score_progression                   7\n",
       "avg_problem_duration                    0\n",
       "verdict_diversity                       0\n",
       "active_days                             0\n",
       "activity_days_span                      0\n",
       "avg_score_trend                         6\n",
       "final_score_ratio                       1\n",
       "avg_attempts_before_final               1\n",
       "late_night_submit_ratio                 0\n",
       "assignment_completion_ratio             1\n",
       "avg_efficiency_per_problem              0\n",
       "weekend_submit_ratio                    0\n",
       "max_streak_days                         0\n",
       "compilation_recovery_ratio              0\n",
       "problem_switches                        0\n",
       "avg_submissions_per_problem_per_day     0\n",
       "dtype: int64"
      ]
     },
     "execution_count": 201,
     "metadata": {},
     "output_type": "execute_result"
    }
   ],
   "execution_count": 201
  },
  {
   "cell_type": "code",
   "id": "ba8a56ae",
   "metadata": {
    "ExecuteTime": {
     "end_time": "2025-06-30T16:28:25.402937Z",
     "start_time": "2025-06-30T16:28:24.228026Z"
    }
   },
   "source": [
    "# Đọc file\n",
    "df = pd.read_csv(r'.\\result_v1\\ck\\user_ck_with_features.csv')\n",
    "\n",
    "target_col = 'CK'\n",
    "\n",
    "# Lọc features: bỏ cột username và cột target\n",
    "X = df.drop(columns=['username', 'CK'])\n",
    "y = df[target_col]\n",
    "\n",
    "X_train, X_test, y_train, y_test = train_test_split(X, y, test_size=0.3, random_state=0)\n",
    "\n",
    "feature_cols = X_train.columns.tolist()\n",
    "with open('feature_columns.json', 'w') as f:\n",
    "    json.dump(feature_cols, f)\n",
    "\n",
    "# Khởi tạo và train model\n",
    "model = RandomForestRegressor()\n",
    "model.fit(X_train, y_train)\n",
    "\n",
    "\n",
    "# Dự đoán trên tập test\n",
    "y_pred = model.predict(X_test)\n",
    "\n",
    "r2 = r2_score(y_test, y_pred)\n",
    "\n",
    "print(f'R^2 Score: {r2:.4f}')"
   ],
   "outputs": [
    {
     "name": "stdout",
     "output_type": "stream",
     "text": [
      "R^2 Score: 0.3576\n"
     ]
    }
   ],
   "execution_count": 17
  },
  {
   "cell_type": "code",
   "id": "a79cea8e",
   "metadata": {
    "ExecuteTime": {
     "end_time": "2025-06-27T16:07:49.369774Z",
     "start_time": "2025-06-27T16:07:49.325168Z"
    }
   },
   "source": [
    "# 1. Đọc dữ liệu\n",
    "df_features = pd.read_csv(FEATURE_CSV)\n",
    "df_without_features = pd.read_csv(r'.\\result_v1\\ck\\user_ck_without_features.csv')\n",
    "\n",
    "df_to_predict = df_features[df_features['username'].isin(df_without_features['username'])].copy()\n",
    "\n",
    "# Xác định các cột đặc trưng\n",
    "with open('feature_columns.json') as f:\n",
    "    feature_cols = json.load(f)\n",
    "\n",
    "# Dự đoán\n",
    "df_to_predict['predicted_score'] = model.predict(df_to_predict[feature_cols])\n",
    "df_to_predict[['username', 'predicted_score']].to_csv(r'.\\result_v1\\ck\\ck_submit_1.csv', index=False)"
   ],
   "outputs": [],
   "execution_count": 206
  },
  {
   "metadata": {},
   "cell_type": "markdown",
   "source": "### Điểm trung bình",
   "id": "a5d9188e"
  },
  {
   "metadata": {
    "ExecuteTime": {
     "end_time": "2025-06-28T02:25:23.502156Z",
     "start_time": "2025-06-28T02:25:23.483327Z"
    }
   },
   "cell_type": "code",
   "source": [
    "# Load all submission CSVs\n",
    "df_ck = pd.read_csv('./result_v1/ck/ck-public-cleaned.csv')\n",
    "df_th = pd.read_csv('./result_v1/th/th-public-cleaned.csv')\n",
    "df_qt = pd.read_csv('./result_v1/qt/qt_public_cleaned.csv')\n",
    "\n",
    "# Rename score columns\n",
    "df_ck = df_ck.rename(columns={'CK': 'ck'})\n",
    "df_th = df_th.rename(columns={'TH': 'th'})\n",
    "df_qt = df_qt.rename(columns={'diemqt': 'qt'})\n",
    "\n",
    "# Merge all by 'hash'\n",
    "df_final = df_ck.merge(df_th, on='hash', how='outer').merge(df_qt, on='hash', how='outer')\n",
    "\n",
    "# Convert score columns to numeric and fill NaN with 0\n",
    "for col in ['ck', 'th', 'qt']:\n",
    "    df_final[col] = pd.to_numeric(df_final[col], errors='coerce').fillna(0)\n",
    "\n",
    "# Calculate unweighted and weighted final scores\n",
    "df_final['final_score'] = (\n",
    "    0.4 * df_final['ck'] +\n",
    "    0.4 * df_final['th'] +\n",
    "    0.2 * df_final['qt']\n",
    ")\n",
    "\n",
    "# Save to CSV\n",
    "df_final[['hash', 'final_score']].to_csv('./result_v1/tbtl/final_score.csv', index=False)"
   ],
   "id": "abca3c3bd0e38123",
   "outputs": [],
   "execution_count": 7
  },
  {
   "metadata": {
    "ExecuteTime": {
     "end_time": "2025-06-28T02:27:45.648352Z",
     "start_time": "2025-06-28T02:27:45.585961Z"
    }
   },
   "cell_type": "code",
   "source": [
    "df_features = pd.read_csv(FEATURE_CSV)\n",
    "df_scores = pd.read_csv(r'.\\result_v1\\tbtl\\final_score.csv')\n",
    "df_scores.rename(columns={'hash': 'username'}, inplace=True)\n",
    "\n",
    "# 1. user_without_features: users có trong features nhưng không có trong scores\n",
    "users_features = set(df_features['username'])\n",
    "users_scores = set(df_scores['username'])\n",
    "\n",
    "users_without_scores = users_features - users_scores  # tập user có trong features nhưng không trong scores\n",
    "\n",
    "df_user_without_features = df_features[df_features['username'].isin(users_without_scores)]\n",
    "\n",
    "# 2. user_with_features: users có trong cả 2 file, lưu toàn bộ cột (merge trên username)\n",
    "df_user_with_features = pd.merge(df_scores, df_features, on='username', how='inner')\n",
    "\n",
    "# Lưu ra file\n",
    "df_user_without_features[['username']].to_csv(r'.\\result_v1\\tbtl\\user_tbtl_without_features.csv', index=False)\n",
    "df_user_with_features.to_csv(r'.\\result_v1\\tbtl\\user_tbtl_with_features.csv', index=False)\n",
    "df_user_with_features.isnull().sum()\n",
    "df_user_without_features.isnull().sum()"
   ],
   "id": "1616548d3e5387b4",
   "outputs": [
    {
     "data": {
      "text/plain": [
       "username                                0\n",
       "total_submissions                       0\n",
       "total_problems                          0\n",
       "total_assignments                       0\n",
       "final_ratio                             0\n",
       "avg_duration                            0\n",
       "max_duration                            0\n",
       "avg_submit_hour                         0\n",
       "early_bird_ratio                        0\n",
       "night_owl_ratio                         0\n",
       "avg_score                               0\n",
       "std_score                               6\n",
       "best_score                              0\n",
       "score_status_ratio                      0\n",
       "problem_revisit_ratio                   0\n",
       "avg_wrong                               0\n",
       "avg_verdicts                            0\n",
       "avg_time_per_case                       0\n",
       "avg_mem_per_case                        0\n",
       "avg_verdict_entropy                     0\n",
       "avg_attempts_per_problem                0\n",
       "avg_score_improvement_to_final          1\n",
       "avg_score_volatility_per_problem        7\n",
       "avg_gap_before_final_submission        22\n",
       "suspiciously_perfect_problems_ratio     0\n",
       "submit_time_entropy                     0\n",
       "avg_score_progression                   7\n",
       "avg_problem_duration                    0\n",
       "verdict_diversity                       0\n",
       "active_days                             0\n",
       "activity_days_span                      0\n",
       "avg_score_trend                         6\n",
       "final_score_ratio                       1\n",
       "avg_attempts_before_final               1\n",
       "late_night_submit_ratio                 0\n",
       "assignment_completion_ratio             1\n",
       "avg_efficiency_per_problem              0\n",
       "weekend_submit_ratio                    0\n",
       "max_streak_days                         0\n",
       "compilation_recovery_ratio              0\n",
       "problem_switches                        0\n",
       "avg_submissions_per_problem_per_day     0\n",
       "dtype: int64"
      ]
     },
     "execution_count": 10,
     "metadata": {},
     "output_type": "execute_result"
    }
   ],
   "execution_count": 10
  },
  {
   "metadata": {
    "ExecuteTime": {
     "end_time": "2025-06-28T02:29:24.886415Z",
     "start_time": "2025-06-28T02:29:22.061099Z"
    }
   },
   "cell_type": "code",
   "source": [
    "import pandas as pd\n",
    "from sklearn.model_selection import train_test_split\n",
    "from sklearn.ensemble import RandomForestRegressor\n",
    "from sklearn.metrics import r2_score\n",
    "\n",
    "df = pd.read_csv(r'.\\result_v1\\tbtl\\user_tbtl_with_features.csv')\n",
    "\n",
    "target_col = 'final_score'\n",
    "\n",
    "# Lọc features: bỏ cột username và cột target\n",
    "X = df.drop(columns=['username', 'final_score'])\n",
    "y = df[target_col]\n",
    "\n",
    "X_train, X_test, y_train, y_test = train_test_split(X, y, test_size=0.3, random_state=0)\n",
    "\n",
    "feature_cols = X_train.columns.tolist()\n",
    "with open('feature_columns.json', 'w') as f:\n",
    "    json.dump(feature_cols, f)\n",
    "\n",
    "# Khởi tạo và train model\n",
    "model = RandomForestRegressor()\n",
    "model.fit(X_train, y_train)\n",
    "\n",
    "\n",
    "# Dự đoán trên tập test\n",
    "y_pred = model.predict(X_test)\n",
    "\n",
    "r2 = r2_score(y_test, y_pred)\n",
    "\n",
    "print(f'R^2 Score: {r2:.4f}')\n"
   ],
   "id": "d81242181cff4b4d",
   "outputs": [
    {
     "name": "stdout",
     "output_type": "stream",
     "text": [
      "R^2 Score: 0.4083\n"
     ]
    }
   ],
   "execution_count": 12
  },
  {
   "metadata": {
    "ExecuteTime": {
     "end_time": "2025-06-28T02:32:17.356497Z",
     "start_time": "2025-06-28T02:32:17.302620Z"
    }
   },
   "cell_type": "code",
   "source": [
    "# 1. Đọc dữ liệu\n",
    "df_features = pd.read_csv(FEATURE_CSV)\n",
    "df_without_features = pd.read_csv(r'.\\result_v1\\tbtl\\user_tbtl_without_features.csv')\n",
    "\n",
    "df_to_predict = df_features[df_features['username'].isin(df_without_features['username'])].copy()\n",
    "\n",
    "# Xác định các cột đặc trưng\n",
    "with open('feature_columns.json') as f:\n",
    "    feature_cols = json.load(f)\n",
    "\n",
    "# Dự đoán và làm tròn đến 0.5\n",
    "df_to_predict['predicted_score'] = model.predict(df_to_predict[feature_cols])\n",
    "df_to_predict['predicted_score'] = np.ceil(df_to_predict['predicted_score'] * 4) / 4\n",
    "\n",
    "# Xuất kết quả\n",
    "df_to_predict[['username', 'predicted_score']].to_csv(r'.\\result_v1\\tbtl\\tbtl_submit_1.csv', index=False)\n"
   ],
   "id": "67cffa49fd9b833e",
   "outputs": [],
   "execution_count": 16
  },
  {
   "cell_type": "code",
   "id": "856181f3",
   "metadata": {
    "ExecuteTime": {
     "end_time": "2025-06-30T16:28:31.399614Z",
     "start_time": "2025-06-30T16:28:31.300735Z"
    }
   },
   "source": [
    "y_pred_test = model.predict(X_test)\n",
    "import matplotlib.pyplot as plt\n",
    "plt.scatter(y_test, y_pred_test)\n",
    "plt.xlabel(\"True Values\")\n",
    "plt.ylabel(\"Predictions\")\n",
    "\n",
    "# 3. Đặt giới hạn cho trục x (xmin, xmax)\n",
    "# Bắt đầu từ 0 và kết thúc ở 10\n",
    "plt.xlim(0, 10)\n",
    "\n",
    "# 4. Đặt giới hạn cho trục y (ymin, ymax)\n",
    "# Bắt đầu từ 0 và kết thúc ở 10\n",
    "plt.ylim(0, 10)\n",
    "\n",
    "# Đảm bảo đường chéo nằm trong phạm vi mong muốn, ví dụ từ 0 đến 10\n",
    "plt.plot([0, 10], [0, 10], color='red', linestyle='--', label='Ideal Prediction (y=x)')\n",
    "\n",
    "\n",
    "# 6. Đặt tiêu đề cho biểu đồ\n",
    "plt.title(\"True Values vs. Predictions\")\n",
    "\n",
    "# 7. (Tùy chọn) Đảm bảo tỷ lệ các trục bằng nhau để đường chéo nhìn đúng 45 độ\n",
    "plt.gca().set_aspect('equal', adjustable='box')\n",
    "\n",
    "\n",
    "# 8. Hiển thị biểu đồ\n",
    "plt.grid(True) # Thêm lưới để dễ nhìn\n",
    "plt.legend() # Hiển thị chú giải nếu có label\n",
    "plt.show()"
   ],
   "outputs": [
    {
     "data": {
      "text/plain": [
       "<Figure size 640x480 with 1 Axes>"
      ],
      "image/png": "[encoded data removed]"
     },
     "metadata": {},
     "output_type": "display_data"
    }
   ],
   "execution_count": 18
  }
 ],
 "metadata": {
  "kernelspec": {
   "display_name": "Python (Project1 .venv)",
   "language": "python",
   "name": "project1-venv"
  },
  "language_info": {
   "codemirror_mode": {
    "name": "ipython",
    "version": 3
   },
   "file_extension": ".py",
   "mimetype": "text/x-python",
   "name": "python",
   "nbconvert_exporter": "python",
   "pygments_lexer": "ipython3",
   "version": "3.11.9"
  }
 },
 "nbformat": 4,
 "nbformat_minor": 5
}
