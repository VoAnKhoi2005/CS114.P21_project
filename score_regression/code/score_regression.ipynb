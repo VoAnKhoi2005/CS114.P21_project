{
 "cells": [
  {
   "cell_type": "code",
   "execution_count": 1,
   "id": "8ba1594f",
   "metadata": {},
   "outputs": [],
   "source": [
    "import pandas as pd\n",
    "import json\n",
    "from datetime import datetime"
   ]
  },
  {
   "cell_type": "markdown",
   "id": "187401f9",
   "metadata": {},
   "source": [
    "### Xóa cột coefficient, language_id. Đổi tên cột assignment_id, problem_id, username"
   ]
  },
  {
   "cell_type": "code",
   "execution_count": 4,
   "id": "eb41c0ae",
   "metadata": {},
   "outputs": [],
   "source": [
    "\n",
    "df = pd.read_csv(r'D:\\DoAnMayHoc\\score_regression\\data\\annonimized.csv')\n",
    "df.rename(columns={\n",
    "    \"concat('it001',`assignment_id`)\": 'assignment_id',\n",
    "    \"concat('it001',`problem_id`)\": 'problem_id',\n",
    "    \"concat('it001', username)\": 'username',\n",
    "    \"concat('it001',`language_id`)\": 'language_id',\n",
    "}, inplace=True)\n",
    "\n",
    "df.drop(columns=['coefficient', 'language_id'], inplace=True)\n",
    "\n",
    "df.to_csv(r'D:\\DoAnMayHoc\\score_regression\\data\\data_cleaned.csv', index=False)"
   ]
  },
  {
   "cell_type": "markdown",
   "id": "ef02df99",
   "metadata": {},
   "source": [
    "### Lọc features"
   ]
  },
  {
   "cell_type": "code",
   "execution_count": 31,
   "id": "1751003e",
   "metadata": {},
   "outputs": [],
   "source": [
    "df = pd.read_csv(r'D:\\DoAnMayHoc\\score_regression\\data\\data_cleaned.csv')\n",
    "df['created_at'] = df['created_at'].str.split().str[1]\n",
    "df['updated_at'] = df['updated_at'].str.split().str[1]\n",
    "\n",
    "df['created_at'] = pd.to_datetime(df['created_at'], format='%H:%M:%S')\n",
    "df['updated_at'] = pd.to_datetime(df['updated_at'], format='%H:%M:%S')\n",
    "\n",
    "# Sửa lỗi âm bằng cách giả sử updated_at hôm sau\n",
    "df.loc[df['updated_at'] < df['created_at'], 'updated_at'] += pd.Timedelta(days=1)\n",
    "\n",
    "# Tính thời gian\n",
    "df['duration'] = (df['updated_at'] - df['created_at']).dt.total_seconds()/3600\n",
    "\n",
    "# Tóm tắt theo user\n",
    "df_summary = df.groupby('username').agg(\n",
    "    total_submissions=('username', 'count'),\n",
    "    total_problems=('problem_id', 'nunique'),\n",
    "    total_assignments=('assignment_id', 'nunique'),\n",
    "    total_score_status=('status', lambda x: (x == 'SCORE').sum()),\n",
    "    avg_duration=('duration', 'mean')\n",
    ").reset_index()\n",
    "\n",
    "df_summary['avg_score_status'] = df_summary['total_score_status'] / df_summary['total_submissions']\n",
    "\n",
    "df_summary['avg_submissions'] = df_summary['total_submissions'] / df_summary['total_problems']\n",
    "df_summary.drop(columns=['total_score_status','total_submissions'], inplace=True)\n",
    "\n",
    "max_values = df_summary[['total_problems', 'total_assignments']].max()\n",
    "df_summary['total_problems'] = df_summary['total_problems'] / max_values['total_problems']\n",
    "df_summary['total_assignments'] = df_summary['total_assignments'] / max_values['total_assignments']\n",
    "df_summary.to_csv(r'D:\\DoAnMayHoc\\score_regression\\data\\user_feature.csv', index=False)\n",
    "\n"
   ]
  },
  {
   "cell_type": "markdown",
   "id": "4825f61d",
   "metadata": {},
   "source": [
    "### Lọc file điểm qt"
   ]
  },
  {
   "cell_type": "code",
   "execution_count": 44,
   "id": "cce81b65",
   "metadata": {},
   "outputs": [],
   "source": [
    "df_scores = pd.read_csv(r'D:\\DoAnMayHoc\\score_regression\\data\\qt-public.csv')\n",
    "df = df_scores.dropna(subset=['diemqt'])\n",
    "df.to_csv(r'D:\\DoAnMayHoc\\score_regression\\data\\qt\\qt-public-cleaned.csv', index=False)"
   ]
  },
  {
   "cell_type": "code",
   "execution_count": 33,
   "id": "7cef50eb",
   "metadata": {},
   "outputs": [
    {
     "data": {
      "text/plain": [
       "username             0\n",
       "total_problems       0\n",
       "total_assignments    0\n",
       "avg_duration         0\n",
       "avg_score_status     0\n",
       "avg_submissions      0\n",
       "dtype: int64"
      ]
     },
     "execution_count": 33,
     "metadata": {},
     "output_type": "execute_result"
    }
   ],
   "source": [
    "df_features = pd.read_csv(r'D:\\DoAnMayHoc\\score_regression\\data\\user_feature.csv') \n",
    "df_scores = pd.read_csv(r'D:\\DoAnMayHoc\\score_regression\\data\\qt\\qt-public-cleaned.csv')\n",
    "df_scores.rename(columns={'hash': 'username'}, inplace=True)\n",
    "\n",
    "# 1. user_without_features: users có trong features nhưng không có trong scores\n",
    "users_features = set(df_features['username'])\n",
    "users_scores = set(df_scores['username'])\n",
    "\n",
    "users_without_scores = users_features - users_scores  # tập user có trong features nhưng không trong scores\n",
    "\n",
    "df_user_without_features = df_features[df_features['username'].isin(users_without_scores)]\n",
    "\n",
    "# 2. user_with_features: users có trong cả 2 file, lưu toàn bộ cột (merge trên username)\n",
    "df_user_with_features = pd.merge(df_scores, df_features, on='username', how='inner')\n",
    "\n",
    "# Lưu ra file\n",
    "df_user_without_features[['username']].to_csv(r'D:\\DoAnMayHoc\\score_regression\\data\\qt\\user_without_features.csv', index=False)\n",
    "df_user_with_features.to_csv(r'D:\\DoAnMayHoc\\score_regression\\data\\qt\\user_with_features.csv', index=False)\n",
    "df_user_with_features.isnull().sum()  # Kiểm tra có cột nào bị thiếu không\n",
    "df_user_without_features.isnull().sum()"
   ]
  },
  {
   "cell_type": "code",
   "execution_count": null,
   "id": "2cb87e1a",
   "metadata": {},
   "outputs": [],
   "source": [
    "\n",
    "from sklearn.model_selection import train_test_split\n",
    "from sklearn.linear_model import LinearRegression\n",
    "from sklearn.metrics import mean_squared_error, r2_score"
   ]
  },
  {
   "cell_type": "code",
   "execution_count": null,
   "id": "e528b61d",
   "metadata": {},
   "outputs": [
    {
     "name": "stdout",
     "output_type": "stream",
     "text": [
      "R^2 Score: 0.1228\n"
     ]
    }
   ],
   "source": [
    "\n",
    "\n",
    "# Đọc file\n",
    "df = pd.read_csv(r'D:\\DoAnMayHoc\\score_regression\\data\\qt\\user_with_features.csv')\n",
    "\n",
    "# Giả sử cột điểm cần dự đoán là 'diemqt'\n",
    "target_col = 'diemqt'  # đổi theo cột điểm thực tế của bạn\n",
    "\n",
    "# Lọc features: bỏ cột username và cột target\n",
    "X = df.drop(columns=['username', 'diemqt'])\n",
    "y = df[target_col]\n",
    "\n",
    "X_train, X_test, y_train, y_test = train_test_split(X, y, test_size=0.3, random_state=0)\n",
    "\n",
    "# Khởi tạo và train model\n",
    "model = LinearRegression()\n",
    "model.fit(X_train, y_train)\n",
    "\n",
    "\n",
    "# Dự đoán trên tập test\n",
    "y_pred = model.predict(X_test)\n",
    "\n",
    "r2 = r2_score(y_test, y_pred)\n",
    "\n",
    "print(f'R^2 Score: {r2:.4f}')\n",
    "\n"
   ]
  },
  {
   "cell_type": "code",
   "execution_count": 37,
   "id": "db6a833a",
   "metadata": {},
   "outputs": [],
   "source": [
    "# 1. Đọc dữ liệu\n",
    "df_features = pd.read_csv(r'D:\\DoAnMayHoc\\score_regression\\data\\user_feature.csv') \n",
    "df_without_features = pd.read_csv(r'D:\\DoAnMayHoc\\score_regression\\data\\qt\\user_without_features.csv')\n",
    "\n",
    "df_to_predict = df_features[df_features['username'].isin(df_without_features['username'])].copy()\n",
    "\n",
    "# Xác định các cột đặc trưng\n",
    "feature_cols = ['total_problems','total_assignments','avg_duration','avg_score_status','avg_submissions']\n",
    "\n",
    "# Dự đoán\n",
    "df_to_predict['predicted_score'] = model.predict(df_to_predict[feature_cols])\n",
    "\n",
    "# Làm tròn đến 0.5 và giới hạn tối đa là 10\n",
    "df_to_predict['predicted_score'] = (df_to_predict['predicted_score'] * 2).round() / 2\n",
    "df_to_predict['predicted_score'] = df_to_predict['predicted_score'].clip(upper=10)\n",
    "df_to_predict[['username', 'predicted_score']].to_csv(r'D:\\DoAnMayHoc\\score_regression\\data\\qt\\qt_submit_4.csv', index=False)\n",
    "\n"
   ]
  },
  {
   "cell_type": "markdown",
   "id": "edf7269e",
   "metadata": {},
   "source": [
    "### Điểm thực hành"
   ]
  },
  {
   "cell_type": "code",
   "execution_count": null,
   "id": "8276c314",
   "metadata": {},
   "outputs": [],
   "source": [
    "df_scores = pd.read_csv(r'D:\\DoAnMayHoc\\score_regression\\data\\th-public.csv')\n",
    "df = df_scores.dropna(subset=['TH'])\n",
    "df.to_csv(r'D:\\DoAnMayHoc\\score_regression\\data\\th\\th-public-cleaned.csv', index=False)\n",
    "\n",
    "df_features = pd.read_csv(r'D:\\DoAnMayHoc\\score_regression\\data\\user_feature.csv') \n",
    "df_scores = pd.read_csv(r'D:\\DoAnMayHoc\\score_regression\\data\\th\\th-public-cleaned.csv')\n",
    "df_scores.rename(columns={'hash': 'username'}, inplace=True)\n",
    "\n",
    "# 1. user_without_features: users có trong features nhưng không có trong scores\n",
    "users_features = set(df_features['username'])\n",
    "users_scores = set(df_scores['username'])\n",
    "\n",
    "users_without_scores = users_features - users_scores  # tập user có trong features nhưng không trong scores\n",
    "\n",
    "df_user_without_features = df_features[df_features['username'].isin(users_without_scores)]\n",
    "\n",
    "# 2. user_with_features: users có trong cả 2 file, lưu toàn bộ cột (merge trên username)\n",
    "df_user_with_features = pd.merge(df_scores, df_features, on='username', how='inner')\n",
    "\n",
    "# Lưu ra file\n",
    "df_user_without_features[['username']].to_csv(r'D:\\DoAnMayHoc\\score_regression\\data\\th\\user_without_features.csv', index=False)\n",
    "df_user_with_features.to_csv(r'D:\\DoAnMayHoc\\score_regression\\data\\th\\user_with_features.csv', index=False)\n",
    "df_user_with_features.isnull().sum()  # Kiểm tra có cột nào bị thiếu không\n",
    "df_user_without_features.isnull().sum()\n",
    "\n",
    "\n"
   ]
  },
  {
   "cell_type": "code",
   "execution_count": 52,
   "id": "f1098b8d",
   "metadata": {},
   "outputs": [
    {
     "name": "stdout",
     "output_type": "stream",
     "text": [
      "R^2 Score: 0.2100\n"
     ]
    }
   ],
   "source": [
    "# Đọc file\n",
    "df = pd.read_csv(r'D:\\DoAnMayHoc\\score_regression\\data\\th\\user_with_features.csv')\n",
    "\n",
    "target_col = 'TH'  # đổi theo cột điểm thực tế của bạn\n",
    "\n",
    "# Lọc features: bỏ cột username và cột target\n",
    "X = df.drop(columns=['username', 'TH'])\n",
    "y = df[target_col]\n",
    "\n",
    "X_train, X_test, y_train, y_test = train_test_split(X, y, test_size=0.3, random_state=0)\n",
    "\n",
    "# Khởi tạo và train model\n",
    "model = LinearRegression()\n",
    "model.fit(X_train, y_train)\n",
    "\n",
    "\n",
    "# Dự đoán trên tập test\n",
    "y_pred = model.predict(X_test)\n",
    "\n",
    "r2 = r2_score(y_test, y_pred)\n",
    "\n",
    "print(f'R^2 Score: {r2:.4f}')"
   ]
  },
  {
   "cell_type": "code",
   "execution_count": 53,
   "id": "740cf88a",
   "metadata": {},
   "outputs": [],
   "source": [
    "# 1. Đọc dữ liệu\n",
    "df_features = pd.read_csv(r'D:\\DoAnMayHoc\\score_regression\\data\\user_feature.csv') \n",
    "df_without_features = pd.read_csv(r'D:\\DoAnMayHoc\\score_regression\\data\\th\\user_without_features.csv')\n",
    "\n",
    "df_to_predict = df_features[df_features['username'].isin(df_without_features['username'])].copy()\n",
    "\n",
    "# Xác định các cột đặc trưng\n",
    "feature_cols = ['total_problems','total_assignments','avg_duration','avg_score_status','avg_submissions']\n",
    "\n",
    "# Dự đoán\n",
    "df_to_predict['predicted_score'] = model.predict(df_to_predict[feature_cols])\n",
    "\n",
    "# Làm tròn đến 0.5 và giới hạn tối đa là 10\n",
    "df_to_predict['predicted_score'] = (df_to_predict['predicted_score'] * 2).round() / 2\n",
    "df_to_predict['predicted_score'] = df_to_predict['predicted_score'].clip(upper=10)\n",
    "df_to_predict[['username', 'predicted_score']].to_csv(r'D:\\DoAnMayHoc\\score_regression\\data\\th\\th_submit_1.csv', index=False)"
   ]
  },
  {
   "cell_type": "markdown",
   "id": "9b087070",
   "metadata": {},
   "source": [
    "### Điểm cuối kì"
   ]
  },
  {
   "cell_type": "code",
   "execution_count": 55,
   "id": "11f506c5",
   "metadata": {},
   "outputs": [
    {
     "data": {
      "text/plain": [
       "username             0\n",
       "total_problems       0\n",
       "total_assignments    0\n",
       "avg_duration         0\n",
       "avg_score_status     0\n",
       "avg_submissions      0\n",
       "dtype: int64"
      ]
     },
     "execution_count": 55,
     "metadata": {},
     "output_type": "execute_result"
    }
   ],
   "source": [
    "df_scores = pd.read_csv(r'D:\\DoAnMayHoc\\score_regression\\data\\ck-public.csv')\n",
    "df = df_scores.dropna(subset=['CK'])\n",
    "df.to_csv(r'D:\\DoAnMayHoc\\score_regression\\data\\ck\\ck-public-cleaned.csv', index=False)\n",
    "\n",
    "df_features = pd.read_csv(r'D:\\DoAnMayHoc\\score_regression\\data\\user_feature.csv') \n",
    "df_scores = pd.read_csv(r'D:\\DoAnMayHoc\\score_regression\\data\\ck\\ck-public-cleaned.csv')\n",
    "df_scores.rename(columns={'hash': 'username'}, inplace=True)\n",
    "\n",
    "# 1. user_without_features: users có trong features nhưng không có trong scores\n",
    "users_features = set(df_features['username'])\n",
    "users_scores = set(df_scores['username'])\n",
    "\n",
    "users_without_scores = users_features - users_scores  # tập user có trong features nhưng không trong scores\n",
    "\n",
    "df_user_without_features = df_features[df_features['username'].isin(users_without_scores)]\n",
    "\n",
    "# 2. user_with_features: users có trong cả 2 file, lưu toàn bộ cột (merge trên username)\n",
    "df_user_with_features = pd.merge(df_scores, df_features, on='username', how='inner')\n",
    "\n",
    "# Lưu ra file\n",
    "df_user_without_features[['username']].to_csv(r'D:\\DoAnMayHoc\\score_regression\\data\\ck\\user_without_features.csv', index=False)\n",
    "df_user_with_features.to_csv(r'D:\\DoAnMayHoc\\score_regression\\data\\ck\\user_with_features.csv', index=False)\n",
    "df_user_with_features.isnull().sum()  # Kiểm tra có cột nào bị thiếu không\n",
    "df_user_without_features.isnull().sum()\n",
    "\n",
    "\n"
   ]
  },
  {
   "cell_type": "code",
   "execution_count": 56,
   "id": "ba8a56ae",
   "metadata": {},
   "outputs": [
    {
     "name": "stdout",
     "output_type": "stream",
     "text": [
      "R^2 Score: 0.1361\n"
     ]
    }
   ],
   "source": [
    "# Đọc file\n",
    "df = pd.read_csv(r'D:\\DoAnMayHoc\\score_regression\\data\\ck\\user_with_features.csv')\n",
    "\n",
    "target_col = 'CK'  # đổi theo cột điểm thực tế của bạn\n",
    "\n",
    "# Lọc features: bỏ cột username và cột target\n",
    "X = df.drop(columns=['username', 'CK'])\n",
    "y = df[target_col]\n",
    "\n",
    "X_train, X_test, y_train, y_test = train_test_split(X, y, test_size=0.3, random_state=0)\n",
    "\n",
    "# Khởi tạo và train model\n",
    "model = LinearRegression()\n",
    "model.fit(X_train, y_train)\n",
    "\n",
    "\n",
    "# Dự đoán trên tập test\n",
    "y_pred = model.predict(X_test)\n",
    "\n",
    "r2 = r2_score(y_test, y_pred)\n",
    "\n",
    "print(f'R^2 Score: {r2:.4f}')"
   ]
  },
  {
   "cell_type": "code",
   "execution_count": 57,
   "id": "a79cea8e",
   "metadata": {},
   "outputs": [],
   "source": [
    "# 1. Đọc dữ liệu\n",
    "df_features = pd.read_csv(r'D:\\DoAnMayHoc\\score_regression\\data\\user_feature.csv') \n",
    "df_without_features = pd.read_csv(r'D:\\DoAnMayHoc\\score_regression\\data\\ck\\user_without_features.csv')\n",
    "\n",
    "df_to_predict = df_features[df_features['username'].isin(df_without_features['username'])].copy()\n",
    "\n",
    "# Xác định các cột đặc trưng\n",
    "feature_cols = ['total_problems','total_assignments','avg_duration','avg_score_status','avg_submissions']\n",
    "\n",
    "# Dự đoán\n",
    "df_to_predict['predicted_score'] = model.predict(df_to_predict[feature_cols])\n",
    "\n",
    "# Làm tròn đến 0.5 và giới hạn tối đa là 10\n",
    "df_to_predict['predicted_score'] = (df_to_predict['predicted_score'] * 2).round() / 2\n",
    "df_to_predict['predicted_score'] = df_to_predict['predicted_score'].clip(upper=10)\n",
    "df_to_predict[['username', 'predicted_score']].to_csv(r'D:\\DoAnMayHoc\\score_regression\\data\\ck\\ck_submit_1.csv', index=False)"
   ]
  },
  {
   "cell_type": "markdown",
   "id": "a5d9188e",
   "metadata": {},
   "source": [
    "### Điểm trung bình"
   ]
  },
  {
   "cell_type": "code",
   "execution_count": 58,
   "id": "856181f3",
   "metadata": {},
   "outputs": [
    {
     "data": {
      "image/png": "[encoded data removed]",
      "text/plain": [
       "<Figure size 640x480 with 1 Axes>"
      ]
     },
     "metadata": {},
     "output_type": "display_data"
    }
   ],
   "source": [
    "y_pred_test = model.predict(X_test)\n",
    "import matplotlib.pyplot as plt\n",
    "plt.scatter(y_test, y_pred_test)\n",
    "plt.xlabel(\"True Values\")\n",
    "plt.ylabel(\"Predictions\")\n",
    "\n",
    "# 3. Đặt giới hạn cho trục x (xmin, xmax)\n",
    "# Bắt đầu từ 0 và kết thúc ở 10\n",
    "plt.xlim(0, 10)\n",
    "\n",
    "# 4. Đặt giới hạn cho trục y (ymin, ymax)\n",
    "# Bắt đầu từ 0 và kết thúc ở 10\n",
    "plt.ylim(0, 10)\n",
    "\n",
    "# Đảm bảo đường chéo nằm trong phạm vi mong muốn, ví dụ từ 0 đến 10\n",
    "plt.plot([0, 10], [0, 10], color='red', linestyle='--', label='Ideal Prediction (y=x)')\n",
    "\n",
    "\n",
    "# 6. Đặt tiêu đề cho biểu đồ\n",
    "plt.title(\"True Values vs. Predictions\")\n",
    "\n",
    "# 7. (Tùy chọn) Đảm bảo tỷ lệ các trục bằng nhau để đường chéo nhìn đúng 45 độ\n",
    "plt.gca().set_aspect('equal', adjustable='box')\n",
    "\n",
    "\n",
    "# 8. Hiển thị biểu đồ\n",
    "plt.grid(True) # Thêm lưới để dễ nhìn\n",
    "plt.legend() # Hiển thị chú giải nếu có label\n",
    "plt.show()"
   ]
  }
 ],
 "metadata": {
  "kernelspec": {
   "display_name": "Python (Project1 .venv)",
   "language": "python",
   "name": "project1-venv"
  },
  "language_info": {
   "codemirror_mode": {
    "name": "ipython",
    "version": 3
   },
   "file_extension": ".py",
   "mimetype": "text/x-python",
   "name": "python",
   "nbconvert_exporter": "python",
   "pygments_lexer": "ipython3",
   "version": "3.11.9"
  }
 },
 "nbformat": 4,
 "nbformat_minor": 5
}
