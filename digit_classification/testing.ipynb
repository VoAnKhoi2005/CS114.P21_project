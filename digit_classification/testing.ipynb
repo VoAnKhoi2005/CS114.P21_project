{
 "cells": [
  {
   "cell_type": "code",
   "id": "initial_id",
   "metadata": {
    "collapsed": true,
    "jupyter": {
     "is_executing": true
    }
   },
   "source": [
    "import os\n",
    "import pandas as pd\n",
    "import torch\n",
    "from PIL import Image\n",
    "from torchvision.transforms import v2 as transforms"
   ],
   "outputs": [],
   "execution_count": null
  },
  {
   "cell_type": "code",
   "execution_count": 6,
   "id": "79ac0ceb",
   "metadata": {},
   "outputs": [],
   "source": [
    "from torch import nn\n",
    "import torch.nn.functional as F\n",
    "\n",
    "class SimpleCNN(nn.Module):\n",
    "    def __init__(self, kernel_size=3, num_classes=10):\n",
    "        super(SimpleCNN, self).__init__()\n",
    "        padding = kernel_size // 2\n",
    "        self.conv1 = nn.Conv2d(1, 32, kernel_size, padding)\n",
    "        self.conv2 = nn.Conv2d(32, 64, kernel_size, padding)\n",
    "        self.pool = nn.MaxPool2d(2, 2)\n",
    "        self.dropout = nn.Dropout(0.25)\n",
    "        self.fc1 = nn.Linear(64 * 14 * 14, 128)\n",
    "        self.fc2 = nn.Linear(128, num_classes)\n",
    "\n",
    "    def forward(self, x):\n",
    "        x = F.relu(self.conv1(x))\n",
    "        x = self.pool(x)\n",
    "        x = F.relu(self.conv2(x))\n",
    "        x = self.pool(x)\n",
    "        x = self.dropout(x)\n",
    "        x = x.view(x.size(0), -1)\n",
    "        x = F.relu(self.fc1(x))\n",
    "        x = self.fc2(x)\n",
    "        return x"
   ]
  },
  {
   "cell_type": "code",
   "execution_count": 7,
   "id": "4b7d0633e863ebf9",
   "metadata": {},
   "outputs": [],
   "source": [
    "LEARNING_RATE = 1e-3\n",
    "BATCH_SIZE = 32\n",
    "EPOCH = 20\n",
    "IMG_SIZE = 64\n",
    "NUM_CLASSES = 1\n",
    "KERNEL_SIZE = 3\n",
    "MODEL_NAME = 'simple_CNN'\n",
    "TEST_FOLDER = r'./data/test_data'\n",
    "image_extensions = {'.jpg', '.jpeg', '.png'}"
   ]
  },
  {
   "cell_type": "code",
   "id": "e304fe238bc471d1",
   "metadata": {
    "jupyter": {
     "is_executing": true
    }
   },
   "source": [
    "transform = transforms.Compose([\n",
    "        transforms.Resize((IMG_SIZE, IMG_SIZE)),\n",
    "        transforms.RandomRotation(10),\n",
    "        transforms.RandomAffine(degrees=0, translate=(0.1, 0.1)),\n",
    "        transforms.ToImage(),\n",
    "        transforms.ToDtype(torch.float32, scale=True),\n",
    "        transforms.Normalize(mean=[0.5], std=[0.5])\n",
    "    ])\n",
    "\n",
    "device = torch.device(\"cuda\" if torch.cuda.is_available() else \"cpu\")\n",
    "print(f\"Using {device} device\")\n",
    "\n",
    "model = SimpleCNN(num_classes=10)\n",
    "model.load_state_dict(torch.load(r'E:\\Code\\Github\\CS114.P21_project\\digit_classification\\simple_CNN\\models\\simple_CNN_model_16_weights.pth'))\n",
    "model.to(device)\n",
    "model.eval()\n",
    "\n",
    "images = []\n",
    "predictions = []\n",
    "\n",
    "for file in os.listdir(TEST_FOLDER):\n",
    "    if file.lower().endswith(image_extensions):\n",
    "        img_path = os.path.join(TEST_FOLDER, file)\n",
    "\n",
    "        try:\n",
    "            image = Image.open(img_path).convert(\"L\")\n",
    "            image = transform(image).unsqueeze(0).to(device)\n",
    "\n",
    "            with torch.no_grad():\n",
    "                output = model(image)\n",
    "                predicted_class = torch.argmax(output, dim=1).item()\n",
    "\n",
    "            images.append(file)\n",
    "            predictions.append(predicted_class)\n",
    "\n",
    "        except Exception as e:\n",
    "            print(f\"Error processing {file}: {e}\")\n",
    "\n",
    "df = pd.DataFrame({'image': images, 'prediction': predictions}).to_csv(\"prediction.csv\", index=False)"
   ],
   "outputs": [],
   "execution_count": null
  }
 ],
 "metadata": {
  "kernelspec": {
   "display_name": "Python 3",
   "language": "python",
   "name": "python3"
  },
  "language_info": {
   "codemirror_mode": {
    "name": "ipython",
    "version": 3
   },
   "file_extension": ".py",
   "mimetype": "text/x-python",
   "name": "python",
   "nbconvert_exporter": "python",
   "pygments_lexer": "ipython3",
   "version": "3.11.7"
  }
 },
 "nbformat": 4,
 "nbformat_minor": 5
}
